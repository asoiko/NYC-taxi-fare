{
 "cells": [
  {
   "cell_type": "code",
   "execution_count": 1,
   "metadata": {
    "colab": {
     "base_uri": "https://localhost:8080/"
    },
    "id": "taqcvNfRispC",
    "outputId": "97b841c3-a2ae-471c-94fa-824094ccd68b"
   },
   "outputs": [
    {
     "name": "stdout",
     "output_type": "stream",
     "text": [
      "['.ipynb_checkpoints', 'NYC.ipynb']\n"
     ]
    }
   ],
   "source": [
    "import pandas as pd\n",
    "from matplotlib import pyplot as plt\n",
    "import seaborn as sns\n",
    "import numpy as np\n",
    "\n",
    "\n",
    "import os\n",
    "print(os.listdir(\".\"))"
   ]
  },
  {
   "cell_type": "code",
   "execution_count": 3,
   "metadata": {
    "colab": {
     "base_uri": "https://localhost:8080/"
    },
    "id": "3olzJ5Lck1O2",
    "outputId": "65321bcb-31a7-4338-96de-120c32fbb694"
   },
   "outputs": [
    {
     "name": "stdout",
     "output_type": "stream",
     "text": [
      "Wall time: 4.72 s\n"
     ]
    }
   ],
   "source": [
    "%%time\n",
    "\n",
    "train = pd.read_csv('../data/train.csv', nrows=2_000_000)\n",
    "test = pd.read_csv('../data/test.csv')"
   ]
  },
  {
   "cell_type": "code",
   "execution_count": 4,
   "metadata": {
    "colab": {
     "base_uri": "https://localhost:8080/",
     "height": 195
    },
    "id": "IyBjw3n-lQpI",
    "outputId": "37f3f09a-884c-4446-fadb-c4193156fb20"
   },
   "outputs": [
    {
     "data": {
      "text/html": [
       "<div>\n",
       "<style scoped>\n",
       "    .dataframe tbody tr th:only-of-type {\n",
       "        vertical-align: middle;\n",
       "    }\n",
       "\n",
       "    .dataframe tbody tr th {\n",
       "        vertical-align: top;\n",
       "    }\n",
       "\n",
       "    .dataframe thead th {\n",
       "        text-align: right;\n",
       "    }\n",
       "</style>\n",
       "<table border=\"1\" class=\"dataframe\">\n",
       "  <thead>\n",
       "    <tr style=\"text-align: right;\">\n",
       "      <th></th>\n",
       "      <th>key</th>\n",
       "      <th>fare_amount</th>\n",
       "      <th>pickup_datetime</th>\n",
       "      <th>pickup_longitude</th>\n",
       "      <th>pickup_latitude</th>\n",
       "      <th>dropoff_longitude</th>\n",
       "      <th>dropoff_latitude</th>\n",
       "      <th>passenger_count</th>\n",
       "    </tr>\n",
       "  </thead>\n",
       "  <tbody>\n",
       "    <tr>\n",
       "      <th>0</th>\n",
       "      <td>2009-06-15 17:26:21.0000001</td>\n",
       "      <td>4.5</td>\n",
       "      <td>2009-06-15 17:26:21 UTC</td>\n",
       "      <td>-73.844311</td>\n",
       "      <td>40.721319</td>\n",
       "      <td>-73.841610</td>\n",
       "      <td>40.712278</td>\n",
       "      <td>1</td>\n",
       "    </tr>\n",
       "    <tr>\n",
       "      <th>1</th>\n",
       "      <td>2010-01-05 16:52:16.0000002</td>\n",
       "      <td>16.9</td>\n",
       "      <td>2010-01-05 16:52:16 UTC</td>\n",
       "      <td>-74.016048</td>\n",
       "      <td>40.711303</td>\n",
       "      <td>-73.979268</td>\n",
       "      <td>40.782004</td>\n",
       "      <td>1</td>\n",
       "    </tr>\n",
       "    <tr>\n",
       "      <th>2</th>\n",
       "      <td>2011-08-18 00:35:00.00000049</td>\n",
       "      <td>5.7</td>\n",
       "      <td>2011-08-18 00:35:00 UTC</td>\n",
       "      <td>-73.982738</td>\n",
       "      <td>40.761270</td>\n",
       "      <td>-73.991242</td>\n",
       "      <td>40.750562</td>\n",
       "      <td>2</td>\n",
       "    </tr>\n",
       "    <tr>\n",
       "      <th>3</th>\n",
       "      <td>2012-04-21 04:30:42.0000001</td>\n",
       "      <td>7.7</td>\n",
       "      <td>2012-04-21 04:30:42 UTC</td>\n",
       "      <td>-73.987130</td>\n",
       "      <td>40.733143</td>\n",
       "      <td>-73.991567</td>\n",
       "      <td>40.758092</td>\n",
       "      <td>1</td>\n",
       "    </tr>\n",
       "    <tr>\n",
       "      <th>4</th>\n",
       "      <td>2010-03-09 07:51:00.000000135</td>\n",
       "      <td>5.3</td>\n",
       "      <td>2010-03-09 07:51:00 UTC</td>\n",
       "      <td>-73.968095</td>\n",
       "      <td>40.768008</td>\n",
       "      <td>-73.956655</td>\n",
       "      <td>40.783762</td>\n",
       "      <td>1</td>\n",
       "    </tr>\n",
       "  </tbody>\n",
       "</table>\n",
       "</div>"
      ],
      "text/plain": [
       "                             key  fare_amount          pickup_datetime  \\\n",
       "0    2009-06-15 17:26:21.0000001          4.5  2009-06-15 17:26:21 UTC   \n",
       "1    2010-01-05 16:52:16.0000002         16.9  2010-01-05 16:52:16 UTC   \n",
       "2   2011-08-18 00:35:00.00000049          5.7  2011-08-18 00:35:00 UTC   \n",
       "3    2012-04-21 04:30:42.0000001          7.7  2012-04-21 04:30:42 UTC   \n",
       "4  2010-03-09 07:51:00.000000135          5.3  2010-03-09 07:51:00 UTC   \n",
       "\n",
       "   pickup_longitude  pickup_latitude  dropoff_longitude  dropoff_latitude  \\\n",
       "0        -73.844311        40.721319         -73.841610         40.712278   \n",
       "1        -74.016048        40.711303         -73.979268         40.782004   \n",
       "2        -73.982738        40.761270         -73.991242         40.750562   \n",
       "3        -73.987130        40.733143         -73.991567         40.758092   \n",
       "4        -73.968095        40.768008         -73.956655         40.783762   \n",
       "\n",
       "   passenger_count  \n",
       "0                1  \n",
       "1                1  \n",
       "2                2  \n",
       "3                1  \n",
       "4                1  "
      ]
     },
     "execution_count": 4,
     "metadata": {},
     "output_type": "execute_result"
    }
   ],
   "source": [
    "train.head()"
   ]
  },
  {
   "cell_type": "code",
   "execution_count": 4,
   "metadata": {
    "colab": {
     "base_uri": "https://localhost:8080/"
    },
    "id": "YW7vsi5Ql8cl",
    "outputId": "1b1ee3b6-2eeb-40f8-8094-d4a394274189"
   },
   "outputs": [
    {
     "data": {
      "text/plain": [
       "key                   object\n",
       "fare_amount          float64\n",
       "pickup_datetime       object\n",
       "pickup_longitude     float64\n",
       "pickup_latitude      float64\n",
       "dropoff_longitude    float64\n",
       "dropoff_latitude     float64\n",
       "passenger_count        int64\n",
       "dtype: object"
      ]
     },
     "execution_count": 4,
     "metadata": {},
     "output_type": "execute_result"
    }
   ],
   "source": [
    "train.dtypes"
   ]
  },
  {
   "cell_type": "code",
   "execution_count": 63,
   "metadata": {
    "colab": {
     "base_uri": "https://localhost:8080/"
    },
    "id": "QeVKgFpqQKDk",
    "outputId": "01965793-b329-4860-ccdb-9c1e60a09161"
   },
   "outputs": [
    {
     "data": {
      "text/plain": [
       "((2000000, 8), (9914, 7))"
      ]
     },
     "execution_count": 63,
     "metadata": {},
     "output_type": "execute_result"
    }
   ],
   "source": [
    "train.shape, test.shape"
   ]
  },
  {
   "cell_type": "code",
   "execution_count": 5,
   "metadata": {
    "colab": {
     "base_uri": "https://localhost:8080/",
     "height": 284
    },
    "id": "VpRVtU5LmCmz",
    "outputId": "1310fd80-c6c9-41a9-b6d9-96feca1040f8"
   },
   "outputs": [
    {
     "data": {
      "text/html": [
       "<div>\n",
       "<style scoped>\n",
       "    .dataframe tbody tr th:only-of-type {\n",
       "        vertical-align: middle;\n",
       "    }\n",
       "\n",
       "    .dataframe tbody tr th {\n",
       "        vertical-align: top;\n",
       "    }\n",
       "\n",
       "    .dataframe thead th {\n",
       "        text-align: right;\n",
       "    }\n",
       "</style>\n",
       "<table border=\"1\" class=\"dataframe\">\n",
       "  <thead>\n",
       "    <tr style=\"text-align: right;\">\n",
       "      <th></th>\n",
       "      <th>fare_amount</th>\n",
       "      <th>pickup_longitude</th>\n",
       "      <th>pickup_latitude</th>\n",
       "      <th>dropoff_longitude</th>\n",
       "      <th>dropoff_latitude</th>\n",
       "      <th>passenger_count</th>\n",
       "    </tr>\n",
       "  </thead>\n",
       "  <tbody>\n",
       "    <tr>\n",
       "      <th>count</th>\n",
       "      <td>1000000.000000</td>\n",
       "      <td>1000000.000000</td>\n",
       "      <td>1000000.000000</td>\n",
       "      <td>999990.000000</td>\n",
       "      <td>999990.000000</td>\n",
       "      <td>1000000.000000</td>\n",
       "    </tr>\n",
       "    <tr>\n",
       "      <th>mean</th>\n",
       "      <td>11.348079</td>\n",
       "      <td>-72.526640</td>\n",
       "      <td>39.929008</td>\n",
       "      <td>-72.527860</td>\n",
       "      <td>39.919954</td>\n",
       "      <td>1.684924</td>\n",
       "    </tr>\n",
       "    <tr>\n",
       "      <th>std</th>\n",
       "      <td>9.822090</td>\n",
       "      <td>12.057937</td>\n",
       "      <td>7.626154</td>\n",
       "      <td>11.324494</td>\n",
       "      <td>8.201418</td>\n",
       "      <td>1.323911</td>\n",
       "    </tr>\n",
       "    <tr>\n",
       "      <th>min</th>\n",
       "      <td>-44.900000</td>\n",
       "      <td>-3377.680935</td>\n",
       "      <td>-3116.285383</td>\n",
       "      <td>-3383.296608</td>\n",
       "      <td>-3114.338567</td>\n",
       "      <td>0.000000</td>\n",
       "    </tr>\n",
       "    <tr>\n",
       "      <th>25%</th>\n",
       "      <td>6.000000</td>\n",
       "      <td>-73.992060</td>\n",
       "      <td>40.734965</td>\n",
       "      <td>-73.991385</td>\n",
       "      <td>40.734046</td>\n",
       "      <td>1.000000</td>\n",
       "    </tr>\n",
       "    <tr>\n",
       "      <th>50%</th>\n",
       "      <td>8.500000</td>\n",
       "      <td>-73.981792</td>\n",
       "      <td>40.752695</td>\n",
       "      <td>-73.980135</td>\n",
       "      <td>40.753166</td>\n",
       "      <td>1.000000</td>\n",
       "    </tr>\n",
       "    <tr>\n",
       "      <th>75%</th>\n",
       "      <td>12.500000</td>\n",
       "      <td>-73.967094</td>\n",
       "      <td>40.767154</td>\n",
       "      <td>-73.963654</td>\n",
       "      <td>40.768129</td>\n",
       "      <td>2.000000</td>\n",
       "    </tr>\n",
       "    <tr>\n",
       "      <th>max</th>\n",
       "      <td>500.000000</td>\n",
       "      <td>2522.271325</td>\n",
       "      <td>2621.628430</td>\n",
       "      <td>45.581619</td>\n",
       "      <td>1651.553433</td>\n",
       "      <td>208.000000</td>\n",
       "    </tr>\n",
       "  </tbody>\n",
       "</table>\n",
       "</div>"
      ],
      "text/plain": [
       "          fare_amount  pickup_longitude  pickup_latitude  dropoff_longitude  \\\n",
       "count  1000000.000000    1000000.000000   1000000.000000      999990.000000   \n",
       "mean        11.348079        -72.526640        39.929008         -72.527860   \n",
       "std          9.822090         12.057937         7.626154          11.324494   \n",
       "min        -44.900000      -3377.680935     -3116.285383       -3383.296608   \n",
       "25%          6.000000        -73.992060        40.734965         -73.991385   \n",
       "50%          8.500000        -73.981792        40.752695         -73.980135   \n",
       "75%         12.500000        -73.967094        40.767154         -73.963654   \n",
       "max        500.000000       2522.271325      2621.628430          45.581619   \n",
       "\n",
       "       dropoff_latitude  passenger_count  \n",
       "count     999990.000000   1000000.000000  \n",
       "mean          39.919954         1.684924  \n",
       "std            8.201418         1.323911  \n",
       "min        -3114.338567         0.000000  \n",
       "25%           40.734046         1.000000  \n",
       "50%           40.753166         1.000000  \n",
       "75%           40.768129         2.000000  \n",
       "max         1651.553433       208.000000  "
      ]
     },
     "execution_count": 5,
     "metadata": {},
     "output_type": "execute_result"
    }
   ],
   "source": [
    "# for 1 million\n",
    "train[:1000000].describe()"
   ]
  },
  {
   "cell_type": "code",
   "execution_count": 6,
   "metadata": {
    "colab": {
     "base_uri": "https://localhost:8080/"
    },
    "id": "BOhf-Iq1QXpZ",
    "outputId": "2e11c406-54ad-4df2-f746-946def203e79"
   },
   "outputs": [
    {
     "data": {
      "text/plain": [
       "dropoff_latitude     14\n",
       "dropoff_longitude    14\n",
       "passenger_count       0\n",
       "pickup_latitude       0\n",
       "pickup_longitude      0\n",
       "pickup_datetime       0\n",
       "fare_amount           0\n",
       "key                   0\n",
       "dtype: int64"
      ]
     },
     "execution_count": 6,
     "metadata": {},
     "output_type": "execute_result"
    }
   ],
   "source": [
    "train.isnull().sum().sort_values(ascending=False)"
   ]
  },
  {
   "cell_type": "code",
   "execution_count": 7,
   "metadata": {
    "colab": {
     "base_uri": "https://localhost:8080/"
    },
    "id": "f6NA3aITQkPY",
    "outputId": "1c59b1eb-1d1b-427d-c2dd-0b90b4c31755"
   },
   "outputs": [
    {
     "data": {
      "text/plain": [
       "passenger_count      0\n",
       "dropoff_latitude     0\n",
       "dropoff_longitude    0\n",
       "pickup_latitude      0\n",
       "pickup_longitude     0\n",
       "pickup_datetime      0\n",
       "key                  0\n",
       "dtype: int64"
      ]
     },
     "execution_count": 7,
     "metadata": {},
     "output_type": "execute_result"
    }
   ],
   "source": [
    "test.isnull().sum().sort_values(ascending=False)"
   ]
  },
  {
   "cell_type": "code",
   "execution_count": 8,
   "metadata": {
    "id": "VEtEcGWfmInI"
   },
   "outputs": [],
   "source": [
    "    def add_travel_vector_features(df):\n",
    "        df['abs_diff_longitude'] = (df.dropoff_longitude - df.pickup_longitude).abs()\n",
    "        df['abs_diff_latitude'] = (df.dropoff_latitude - df.pickup_latitude).abs()\n",
    "\n",
    "    add_travel_vector_features(train)\n",
    "    add_travel_vector_features(test)"
   ]
  },
  {
   "cell_type": "code",
   "execution_count": 9,
   "metadata": {
    "colab": {
     "base_uri": "https://localhost:8080/"
    },
    "id": "tsIkWbQboobs",
    "outputId": "77d20b4d-6cef-4d5b-8e97-c583773d376d"
   },
   "outputs": [
    {
     "name": "stdout",
     "output_type": "stream",
     "text": [
      "Old size: 2000000\n",
      "New size: 1999986\n"
     ]
    }
   ],
   "source": [
    "print(f'Old size: {len(train)}')\n",
    "train.dropna(how='any', axis='rows', inplace=True)\n",
    "print(f'New size: {len(train)}')"
   ]
  },
  {
   "cell_type": "code",
   "execution_count": 10,
   "metadata": {
    "colab": {
     "base_uri": "https://localhost:8080/",
     "height": 280
    },
    "id": "6n_EtGKjo_Z8",
    "outputId": "f242a667-9496-4fd1-a466-6746b753516b"
   },
   "outputs": [
    {
     "data": {
      "image/png": "[encoded data removed]",
      "text/plain": [
       "<Figure size 432x288 with 1 Axes>"
      ]
     },
     "metadata": {
      "needs_background": "light"
     },
     "output_type": "display_data"
    }
   ],
   "source": [
    "sns.scatterplot(x='abs_diff_latitude', y='abs_diff_longitude', data=train[:4000]);"
   ]
  },
  {
   "cell_type": "code",
   "execution_count": 11,
   "metadata": {
    "colab": {
     "base_uri": "https://localhost:8080/"
    },
    "id": "1fvT6iS5pYky",
    "outputId": "5bcdea09-9df9-4adc-c21b-a1a5beac9ef4"
   },
   "outputs": [
    {
     "name": "stdout",
     "output_type": "stream",
     "text": [
      "Old size: 1999986\n",
      "New size: 1995956\n"
     ]
    }
   ],
   "source": [
    "print(f'Old size: {len(train)}')\n",
    "train = train[(train['abs_diff_latitude'] < 5.0) & (train['abs_diff_longitude'] < 5.0)]\n",
    "print(f'New size: {len(train)}')"
   ]
  },
  {
   "cell_type": "code",
   "execution_count": 13,
   "metadata": {
    "colab": {
     "base_uri": "https://localhost:8080/",
     "height": 280
    },
    "id": "l-2rfgcgpwCs",
    "outputId": "66fc9e81-f45a-4989-a8f1-e02c9c3e00fc"
   },
   "outputs": [
    {
     "data": {
      "image/png": "[encoded data removed]",
      "text/plain": [
       "<Figure size 432x288 with 1 Axes>"
      ]
     },
     "metadata": {
      "needs_background": "light"
     },
     "output_type": "display_data"
    }
   ],
   "source": [
    "sns.scatterplot(x='abs_diff_latitude', y='abs_diff_longitude', data=train[:4000]);"
   ]
  },
  {
   "cell_type": "code",
   "execution_count": 12,
   "metadata": {
    "colab": {
     "base_uri": "https://localhost:8080/",
     "height": 279
    },
    "id": "tdzkLlhzTR0Y",
    "outputId": "90836ea4-b36d-4893-ddac-ccee85faa356"
   },
   "outputs": [
    {
     "data": {
      "text/html": [
       "<div>\n",
       "<style scoped>\n",
       "    .dataframe tbody tr th:only-of-type {\n",
       "        vertical-align: middle;\n",
       "    }\n",
       "\n",
       "    .dataframe tbody tr th {\n",
       "        vertical-align: top;\n",
       "    }\n",
       "\n",
       "    .dataframe thead th {\n",
       "        text-align: right;\n",
       "    }\n",
       "</style>\n",
       "<table border=\"1\" class=\"dataframe\">\n",
       "  <thead>\n",
       "    <tr style=\"text-align: right;\">\n",
       "      <th></th>\n",
       "      <th>key</th>\n",
       "      <th>fare_amount</th>\n",
       "      <th>pickup_datetime</th>\n",
       "      <th>pickup_longitude</th>\n",
       "      <th>pickup_latitude</th>\n",
       "      <th>dropoff_longitude</th>\n",
       "      <th>dropoff_latitude</th>\n",
       "      <th>passenger_count</th>\n",
       "      <th>abs_diff_longitude</th>\n",
       "      <th>abs_diff_latitude</th>\n",
       "    </tr>\n",
       "  </thead>\n",
       "  <tbody>\n",
       "    <tr>\n",
       "      <th>0</th>\n",
       "      <td>2009-06-15 17:26:21.0000001</td>\n",
       "      <td>4.5</td>\n",
       "      <td>2009-06-15 17:26:21 UTC</td>\n",
       "      <td>-73.844311</td>\n",
       "      <td>40.721319</td>\n",
       "      <td>-73.841610</td>\n",
       "      <td>40.712278</td>\n",
       "      <td>1</td>\n",
       "      <td>0.002701</td>\n",
       "      <td>0.009041</td>\n",
       "    </tr>\n",
       "    <tr>\n",
       "      <th>1</th>\n",
       "      <td>2010-01-05 16:52:16.0000002</td>\n",
       "      <td>16.9</td>\n",
       "      <td>2010-01-05 16:52:16 UTC</td>\n",
       "      <td>-74.016048</td>\n",
       "      <td>40.711303</td>\n",
       "      <td>-73.979268</td>\n",
       "      <td>40.782004</td>\n",
       "      <td>1</td>\n",
       "      <td>0.036780</td>\n",
       "      <td>0.070701</td>\n",
       "    </tr>\n",
       "    <tr>\n",
       "      <th>2</th>\n",
       "      <td>2011-08-18 00:35:00.00000049</td>\n",
       "      <td>5.7</td>\n",
       "      <td>2011-08-18 00:35:00 UTC</td>\n",
       "      <td>-73.982738</td>\n",
       "      <td>40.761270</td>\n",
       "      <td>-73.991242</td>\n",
       "      <td>40.750562</td>\n",
       "      <td>2</td>\n",
       "      <td>0.008504</td>\n",
       "      <td>0.010708</td>\n",
       "    </tr>\n",
       "    <tr>\n",
       "      <th>3</th>\n",
       "      <td>2012-04-21 04:30:42.0000001</td>\n",
       "      <td>7.7</td>\n",
       "      <td>2012-04-21 04:30:42 UTC</td>\n",
       "      <td>-73.987130</td>\n",
       "      <td>40.733143</td>\n",
       "      <td>-73.991567</td>\n",
       "      <td>40.758092</td>\n",
       "      <td>1</td>\n",
       "      <td>0.004437</td>\n",
       "      <td>0.024949</td>\n",
       "    </tr>\n",
       "    <tr>\n",
       "      <th>4</th>\n",
       "      <td>2010-03-09 07:51:00.000000135</td>\n",
       "      <td>5.3</td>\n",
       "      <td>2010-03-09 07:51:00 UTC</td>\n",
       "      <td>-73.968095</td>\n",
       "      <td>40.768008</td>\n",
       "      <td>-73.956655</td>\n",
       "      <td>40.783762</td>\n",
       "      <td>1</td>\n",
       "      <td>0.011440</td>\n",
       "      <td>0.015754</td>\n",
       "    </tr>\n",
       "  </tbody>\n",
       "</table>\n",
       "</div>"
      ],
      "text/plain": [
       "                             key  fare_amount          pickup_datetime  \\\n",
       "0    2009-06-15 17:26:21.0000001          4.5  2009-06-15 17:26:21 UTC   \n",
       "1    2010-01-05 16:52:16.0000002         16.9  2010-01-05 16:52:16 UTC   \n",
       "2   2011-08-18 00:35:00.00000049          5.7  2011-08-18 00:35:00 UTC   \n",
       "3    2012-04-21 04:30:42.0000001          7.7  2012-04-21 04:30:42 UTC   \n",
       "4  2010-03-09 07:51:00.000000135          5.3  2010-03-09 07:51:00 UTC   \n",
       "\n",
       "   pickup_longitude  pickup_latitude  dropoff_longitude  dropoff_latitude  \\\n",
       "0        -73.844311        40.721319         -73.841610         40.712278   \n",
       "1        -74.016048        40.711303         -73.979268         40.782004   \n",
       "2        -73.982738        40.761270         -73.991242         40.750562   \n",
       "3        -73.987130        40.733143         -73.991567         40.758092   \n",
       "4        -73.968095        40.768008         -73.956655         40.783762   \n",
       "\n",
       "   passenger_count  abs_diff_longitude  abs_diff_latitude  \n",
       "0                1            0.002701           0.009041  \n",
       "1                1            0.036780           0.070701  \n",
       "2                2            0.008504           0.010708  \n",
       "3                1            0.004437           0.024949  \n",
       "4                1            0.011440           0.015754  "
      ]
     },
     "execution_count": 12,
     "metadata": {},
     "output_type": "execute_result"
    }
   ],
   "source": [
    "train.head()"
   ]
  },
  {
   "cell_type": "code",
   "execution_count": 13,
   "metadata": {
    "colab": {
     "base_uri": "https://localhost:8080/"
    },
    "id": "j4nbFQufSS07",
    "outputId": "3ba5e3a0-922a-4e88-8b8e-c29bceba706b"
   },
   "outputs": [
    {
     "data": {
      "text/plain": [
       "Counter({False: 1995883, True: 73})"
      ]
     },
     "execution_count": 13,
     "metadata": {},
     "output_type": "execute_result"
    }
   ],
   "source": [
    "from collections import Counter\n",
    "Counter(train['fare_amount'] < 0)"
   ]
  },
  {
   "cell_type": "code",
   "execution_count": 14,
   "metadata": {
    "colab": {
     "base_uri": "https://localhost:8080/"
    },
    "id": "CzqhqPlFRtMr",
    "outputId": "cded06fd-0e03-4b13-a723-10962d5831e5"
   },
   "outputs": [
    {
     "name": "stdout",
     "output_type": "stream",
     "text": [
      "Old size: (1995956, 10)\n",
      "New size: (1995837, 10)\n"
     ]
    }
   ],
   "source": [
    "print(f'Old size: {train.shape}')\n",
    "train = train[train['fare_amount'] > 0]\n",
    "print(f'New size: {train.shape}')"
   ]
  },
  {
   "cell_type": "code",
   "execution_count": 18,
   "metadata": {
    "colab": {
     "base_uri": "https://localhost:8080/"
    },
    "id": "JZNPqpO-aGrD",
    "outputId": "2474924f-ad1a-44fa-df0e-e3a2ded88158"
   },
   "outputs": [
    {
     "data": {
      "text/plain": [
       "count    1000000.000000\n",
       "mean           1.685031\n",
       "std            1.323851\n",
       "min            0.000000\n",
       "25%            1.000000\n",
       "50%            1.000000\n",
       "75%            2.000000\n",
       "max          208.000000\n",
       "Name: passenger_count, dtype: float64"
      ]
     },
     "execution_count": 18,
     "metadata": {},
     "output_type": "execute_result"
    }
   ],
   "source": [
    "train['passenger_count'][:1000000].describe()"
   ]
  },
  {
   "cell_type": "code",
   "execution_count": 19,
   "metadata": {
    "colab": {
     "base_uri": "https://localhost:8080/",
     "height": 94
    },
    "id": "qEhyRCk2cO-9",
    "outputId": "46820cf3-8dcf-4ed1-ab25-bc74a87f82a5"
   },
   "outputs": [
    {
     "data": {
      "text/html": [
       "<div>\n",
       "<style scoped>\n",
       "    .dataframe tbody tr th:only-of-type {\n",
       "        vertical-align: middle;\n",
       "    }\n",
       "\n",
       "    .dataframe tbody tr th {\n",
       "        vertical-align: top;\n",
       "    }\n",
       "\n",
       "    .dataframe thead th {\n",
       "        text-align: right;\n",
       "    }\n",
       "</style>\n",
       "<table border=\"1\" class=\"dataframe\">\n",
       "  <thead>\n",
       "    <tr style=\"text-align: right;\">\n",
       "      <th></th>\n",
       "      <th>key</th>\n",
       "      <th>fare_amount</th>\n",
       "      <th>pickup_datetime</th>\n",
       "      <th>pickup_longitude</th>\n",
       "      <th>pickup_latitude</th>\n",
       "      <th>dropoff_longitude</th>\n",
       "      <th>dropoff_latitude</th>\n",
       "      <th>passenger_count</th>\n",
       "      <th>abs_diff_longitude</th>\n",
       "      <th>abs_diff_latitude</th>\n",
       "    </tr>\n",
       "  </thead>\n",
       "  <tbody>\n",
       "    <tr>\n",
       "      <th>929022</th>\n",
       "      <td>2009-07-30 11:54:00.000000193</td>\n",
       "      <td>3.3</td>\n",
       "      <td>2009-07-30 11:54:00 UTC</td>\n",
       "      <td>0.00000</td>\n",
       "      <td>0.00000</td>\n",
       "      <td>0.00000</td>\n",
       "      <td>0.00000</td>\n",
       "      <td>208</td>\n",
       "      <td>0.0000</td>\n",
       "      <td>0.00000</td>\n",
       "    </tr>\n",
       "    <tr>\n",
       "      <th>1007609</th>\n",
       "      <td>2014-06-24 15:13:00.00000040</td>\n",
       "      <td>104.0</td>\n",
       "      <td>2014-06-24 15:13:00 UTC</td>\n",
       "      <td>-74.01578</td>\n",
       "      <td>40.71542</td>\n",
       "      <td>-74.17028</td>\n",
       "      <td>40.70834</td>\n",
       "      <td>9</td>\n",
       "      <td>0.1545</td>\n",
       "      <td>0.00708</td>\n",
       "    </tr>\n",
       "  </tbody>\n",
       "</table>\n",
       "</div>"
      ],
      "text/plain": [
       "                                   key  fare_amount          pickup_datetime  \\\n",
       "929022   2009-07-30 11:54:00.000000193          3.3  2009-07-30 11:54:00 UTC   \n",
       "1007609   2014-06-24 15:13:00.00000040        104.0  2014-06-24 15:13:00 UTC   \n",
       "\n",
       "         pickup_longitude  pickup_latitude  dropoff_longitude  \\\n",
       "929022            0.00000          0.00000            0.00000   \n",
       "1007609         -74.01578         40.71542          -74.17028   \n",
       "\n",
       "         dropoff_latitude  passenger_count  abs_diff_longitude  \\\n",
       "929022            0.00000              208              0.0000   \n",
       "1007609          40.70834                9              0.1545   \n",
       "\n",
       "         abs_diff_latitude  \n",
       "929022             0.00000  \n",
       "1007609            0.00708  "
      ]
     },
     "execution_count": 19,
     "metadata": {},
     "output_type": "execute_result"
    }
   ],
   "source": [
    "train[train['passenger_count'] > 6]"
   ]
  },
  {
   "cell_type": "code",
   "execution_count": 20,
   "metadata": {
    "colab": {
     "base_uri": "https://localhost:8080/"
    },
    "id": "KFYP2BtBck35",
    "outputId": "b87a18b9-69f4-49bf-abba-8db323c62e7c"
   },
   "outputs": [
    {
     "name": "stdout",
     "output_type": "stream",
     "text": [
      "Old size: (1995837, 10)\n",
      "New size: (1995835, 10)\n"
     ]
    }
   ],
   "source": [
    "print(f'Old size: {train.shape}')\n",
    "train.drop(train[train['passenger_count'] > 6].index, axis = 0, inplace=True)\n",
    "print(f'New size: {train.shape}')"
   ]
  },
  {
   "cell_type": "code",
   "execution_count": 21,
   "metadata": {
    "colab": {
     "base_uri": "https://localhost:8080/"
    },
    "id": "Scy6jcN73Zad",
    "outputId": "6a43f579-d687-4d60-c2f3-cebbe51facf0"
   },
   "outputs": [
    {
     "data": {
      "text/plain": [
       "1    1380323\n",
       "2     295323\n",
       "5     141263\n",
       "3      87480\n",
       "4      42536\n",
       "6      41861\n",
       "0       7049\n",
       "Name: passenger_count, dtype: int64"
      ]
     },
     "execution_count": 21,
     "metadata": {},
     "output_type": "execute_result"
    }
   ],
   "source": [
    "train['passenger_count'].value_counts()"
   ]
  },
  {
   "cell_type": "code",
   "execution_count": 73,
   "metadata": {
    "colab": {
     "base_uri": "https://localhost:8080/",
     "height": 570
    },
    "id": "u6ukvfOt3pPH",
    "outputId": "1e157413-1be9-428d-b1c8-af81f0376753"
   },
   "outputs": [
    {
     "data": {
      "text/html": [
       "<div>\n",
       "<style scoped>\n",
       "    .dataframe tbody tr th:only-of-type {\n",
       "        vertical-align: middle;\n",
       "    }\n",
       "\n",
       "    .dataframe tbody tr th {\n",
       "        vertical-align: top;\n",
       "    }\n",
       "\n",
       "    .dataframe thead th {\n",
       "        text-align: right;\n",
       "    }\n",
       "</style>\n",
       "<table border=\"1\" class=\"dataframe\">\n",
       "  <thead>\n",
       "    <tr style=\"text-align: right;\">\n",
       "      <th></th>\n",
       "      <th>key</th>\n",
       "      <th>fare_amount</th>\n",
       "      <th>pickup_datetime</th>\n",
       "      <th>pickup_longitude</th>\n",
       "      <th>pickup_latitude</th>\n",
       "      <th>dropoff_longitude</th>\n",
       "      <th>dropoff_latitude</th>\n",
       "      <th>passenger_count</th>\n",
       "      <th>abs_diff_longitude</th>\n",
       "      <th>abs_diff_latitude</th>\n",
       "    </tr>\n",
       "  </thead>\n",
       "  <tbody>\n",
       "    <tr>\n",
       "      <th>314</th>\n",
       "      <td>2015-06-02 23:16:15.00000012</td>\n",
       "      <td>34.0</td>\n",
       "      <td>2015-06-02 23:16:15 UTC</td>\n",
       "      <td>-73.974899</td>\n",
       "      <td>40.751095</td>\n",
       "      <td>-73.908546</td>\n",
       "      <td>40.881878</td>\n",
       "      <td>0</td>\n",
       "      <td>0.066353</td>\n",
       "      <td>0.130783</td>\n",
       "    </tr>\n",
       "    <tr>\n",
       "      <th>566</th>\n",
       "      <td>2012-01-28 21:33:18.0000002</td>\n",
       "      <td>4.9</td>\n",
       "      <td>2012-01-28 21:33:18 UTC</td>\n",
       "      <td>-73.955322</td>\n",
       "      <td>40.782840</td>\n",
       "      <td>-73.955797</td>\n",
       "      <td>40.773673</td>\n",
       "      <td>0</td>\n",
       "      <td>0.000475</td>\n",
       "      <td>0.009167</td>\n",
       "    </tr>\n",
       "    <tr>\n",
       "      <th>678</th>\n",
       "      <td>2012-02-27 07:24:20.0000003</td>\n",
       "      <td>6.5</td>\n",
       "      <td>2012-02-27 07:24:20 UTC</td>\n",
       "      <td>-73.983397</td>\n",
       "      <td>40.738183</td>\n",
       "      <td>-73.971395</td>\n",
       "      <td>40.758023</td>\n",
       "      <td>0</td>\n",
       "      <td>0.012002</td>\n",
       "      <td>0.019840</td>\n",
       "    </tr>\n",
       "    <tr>\n",
       "      <th>1160</th>\n",
       "      <td>2011-05-25 23:58:48.0000001</td>\n",
       "      <td>13.3</td>\n",
       "      <td>2011-05-25 23:58:48 UTC</td>\n",
       "      <td>-73.998360</td>\n",
       "      <td>40.740348</td>\n",
       "      <td>-73.946455</td>\n",
       "      <td>40.777348</td>\n",
       "      <td>0</td>\n",
       "      <td>0.051905</td>\n",
       "      <td>0.037000</td>\n",
       "    </tr>\n",
       "    <tr>\n",
       "      <th>1935</th>\n",
       "      <td>2011-10-23 11:09:28.0000001</td>\n",
       "      <td>10.1</td>\n",
       "      <td>2011-10-23 11:09:28 UTC</td>\n",
       "      <td>-73.971400</td>\n",
       "      <td>40.795000</td>\n",
       "      <td>-73.967900</td>\n",
       "      <td>40.768600</td>\n",
       "      <td>0</td>\n",
       "      <td>0.003500</td>\n",
       "      <td>0.026400</td>\n",
       "    </tr>\n",
       "    <tr>\n",
       "      <th>...</th>\n",
       "      <td>...</td>\n",
       "      <td>...</td>\n",
       "      <td>...</td>\n",
       "      <td>...</td>\n",
       "      <td>...</td>\n",
       "      <td>...</td>\n",
       "      <td>...</td>\n",
       "      <td>...</td>\n",
       "      <td>...</td>\n",
       "      <td>...</td>\n",
       "    </tr>\n",
       "    <tr>\n",
       "      <th>1998613</th>\n",
       "      <td>2011-05-22 14:21:14.0000002</td>\n",
       "      <td>7.7</td>\n",
       "      <td>2011-05-22 14:21:14 UTC</td>\n",
       "      <td>-73.999663</td>\n",
       "      <td>40.745835</td>\n",
       "      <td>-74.008447</td>\n",
       "      <td>40.719852</td>\n",
       "      <td>0</td>\n",
       "      <td>0.008784</td>\n",
       "      <td>0.025983</td>\n",
       "    </tr>\n",
       "    <tr>\n",
       "      <th>1999031</th>\n",
       "      <td>2012-01-21 19:09:31.0000003</td>\n",
       "      <td>8.9</td>\n",
       "      <td>2012-01-21 19:09:31 UTC</td>\n",
       "      <td>-74.002133</td>\n",
       "      <td>40.729500</td>\n",
       "      <td>-73.971997</td>\n",
       "      <td>40.751440</td>\n",
       "      <td>0</td>\n",
       "      <td>0.030136</td>\n",
       "      <td>0.021940</td>\n",
       "    </tr>\n",
       "    <tr>\n",
       "      <th>1999439</th>\n",
       "      <td>2011-12-04 11:09:57.0000001</td>\n",
       "      <td>15.3</td>\n",
       "      <td>2011-12-04 11:09:57 UTC</td>\n",
       "      <td>-73.954200</td>\n",
       "      <td>40.770300</td>\n",
       "      <td>-74.008100</td>\n",
       "      <td>40.738900</td>\n",
       "      <td>0</td>\n",
       "      <td>0.053900</td>\n",
       "      <td>0.031400</td>\n",
       "    </tr>\n",
       "    <tr>\n",
       "      <th>1999715</th>\n",
       "      <td>2011-10-21 13:47:07.0000002</td>\n",
       "      <td>13.3</td>\n",
       "      <td>2011-10-21 13:47:07 UTC</td>\n",
       "      <td>-73.988500</td>\n",
       "      <td>40.737600</td>\n",
       "      <td>-73.949200</td>\n",
       "      <td>40.778500</td>\n",
       "      <td>0</td>\n",
       "      <td>0.039300</td>\n",
       "      <td>0.040900</td>\n",
       "    </tr>\n",
       "    <tr>\n",
       "      <th>1999986</th>\n",
       "      <td>2012-04-20 15:37:56.0000003</td>\n",
       "      <td>5.7</td>\n",
       "      <td>2012-04-20 15:37:56 UTC</td>\n",
       "      <td>-73.978148</td>\n",
       "      <td>40.741777</td>\n",
       "      <td>-73.988282</td>\n",
       "      <td>40.749933</td>\n",
       "      <td>0</td>\n",
       "      <td>0.010134</td>\n",
       "      <td>0.008156</td>\n",
       "    </tr>\n",
       "  </tbody>\n",
       "</table>\n",
       "<p>7049 rows × 10 columns</p>\n",
       "</div>"
      ],
      "text/plain": [
       "                                  key  fare_amount          pickup_datetime  \\\n",
       "314      2015-06-02 23:16:15.00000012         34.0  2015-06-02 23:16:15 UTC   \n",
       "566       2012-01-28 21:33:18.0000002          4.9  2012-01-28 21:33:18 UTC   \n",
       "678       2012-02-27 07:24:20.0000003          6.5  2012-02-27 07:24:20 UTC   \n",
       "1160      2011-05-25 23:58:48.0000001         13.3  2011-05-25 23:58:48 UTC   \n",
       "1935      2011-10-23 11:09:28.0000001         10.1  2011-10-23 11:09:28 UTC   \n",
       "...                               ...          ...                      ...   \n",
       "1998613   2011-05-22 14:21:14.0000002          7.7  2011-05-22 14:21:14 UTC   \n",
       "1999031   2012-01-21 19:09:31.0000003          8.9  2012-01-21 19:09:31 UTC   \n",
       "1999439   2011-12-04 11:09:57.0000001         15.3  2011-12-04 11:09:57 UTC   \n",
       "1999715   2011-10-21 13:47:07.0000002         13.3  2011-10-21 13:47:07 UTC   \n",
       "1999986   2012-04-20 15:37:56.0000003          5.7  2012-04-20 15:37:56 UTC   \n",
       "\n",
       "         pickup_longitude  pickup_latitude  dropoff_longitude  \\\n",
       "314            -73.974899        40.751095         -73.908546   \n",
       "566            -73.955322        40.782840         -73.955797   \n",
       "678            -73.983397        40.738183         -73.971395   \n",
       "1160           -73.998360        40.740348         -73.946455   \n",
       "1935           -73.971400        40.795000         -73.967900   \n",
       "...                   ...              ...                ...   \n",
       "1998613        -73.999663        40.745835         -74.008447   \n",
       "1999031        -74.002133        40.729500         -73.971997   \n",
       "1999439        -73.954200        40.770300         -74.008100   \n",
       "1999715        -73.988500        40.737600         -73.949200   \n",
       "1999986        -73.978148        40.741777         -73.988282   \n",
       "\n",
       "         dropoff_latitude  passenger_count  abs_diff_longitude  \\\n",
       "314             40.881878                0            0.066353   \n",
       "566             40.773673                0            0.000475   \n",
       "678             40.758023                0            0.012002   \n",
       "1160            40.777348                0            0.051905   \n",
       "1935            40.768600                0            0.003500   \n",
       "...                   ...              ...                 ...   \n",
       "1998613         40.719852                0            0.008784   \n",
       "1999031         40.751440                0            0.030136   \n",
       "1999439         40.738900                0            0.053900   \n",
       "1999715         40.778500                0            0.039300   \n",
       "1999986         40.749933                0            0.010134   \n",
       "\n",
       "         abs_diff_latitude  \n",
       "314               0.130783  \n",
       "566               0.009167  \n",
       "678               0.019840  \n",
       "1160              0.037000  \n",
       "1935              0.026400  \n",
       "...                    ...  \n",
       "1998613           0.025983  \n",
       "1999031           0.021940  \n",
       "1999439           0.031400  \n",
       "1999715           0.040900  \n",
       "1999986           0.008156  \n",
       "\n",
       "[7049 rows x 10 columns]"
      ]
     },
     "execution_count": 73,
     "metadata": {},
     "output_type": "execute_result"
    }
   ],
   "source": [
    "train[train['passenger_count']==0]"
   ]
  },
  {
   "cell_type": "code",
   "execution_count": 22,
   "metadata": {
    "colab": {
     "base_uri": "https://localhost:8080/"
    },
    "id": "vaISupMglDzr",
    "outputId": "9d6e0177-ee0d-46ad-90dd-39d8a38c87ac"
   },
   "outputs": [
    {
     "name": "stdout",
     "output_type": "stream",
     "text": [
      "Old size: (1995835, 10)\n",
      "New size: (1988786, 10)\n"
     ]
    }
   ],
   "source": [
    "print(f'Old size: {train.shape}')\n",
    "train.drop(train[train['passenger_count']==0].index, axis = 0, inplace=True)\n",
    "print(f'New size: {train.shape}')"
   ]
  },
  {
   "cell_type": "code",
   "execution_count": 23,
   "metadata": {
    "colab": {
     "base_uri": "https://localhost:8080/"
    },
    "id": "HDbFJ55Glht1",
    "outputId": "6098270a-0223-4d01-e311-40756c8da1dd"
   },
   "outputs": [
    {
     "data": {
      "text/plain": [
       "key                                object\n",
       "fare_amount                       float64\n",
       "pickup_datetime       datetime64[ns, UTC]\n",
       "pickup_longitude                  float64\n",
       "pickup_latitude                   float64\n",
       "dropoff_longitude                 float64\n",
       "dropoff_latitude                  float64\n",
       "passenger_count                     int64\n",
       "abs_diff_longitude                float64\n",
       "abs_diff_latitude                 float64\n",
       "dtype: object"
      ]
     },
     "execution_count": 23,
     "metadata": {},
     "output_type": "execute_result"
    }
   ],
   "source": [
    "train['pickup_datetime'] = pd.to_datetime(train['pickup_datetime'])\n",
    "train.dtypes"
   ]
  },
  {
   "cell_type": "code",
   "execution_count": 24,
   "metadata": {
    "colab": {
     "base_uri": "https://localhost:8080/"
    },
    "id": "csQB0j2Nl_Jn",
    "outputId": "aa4fc69f-18fd-4c87-9b18-6d65ba0f6d48"
   },
   "outputs": [
    {
     "name": "stdout",
     "output_type": "stream",
     "text": [
      "Old size (9914, 9)\n",
      "New size (9914, 9)\n"
     ]
    },
    {
     "data": {
      "text/plain": [
       "key                                object\n",
       "pickup_datetime       datetime64[ns, UTC]\n",
       "pickup_longitude                  float64\n",
       "pickup_latitude                   float64\n",
       "dropoff_longitude                 float64\n",
       "dropoff_latitude                  float64\n",
       "passenger_count                     int64\n",
       "abs_diff_longitude                float64\n",
       "abs_diff_latitude                 float64\n",
       "dtype: object"
      ]
     },
     "execution_count": 24,
     "metadata": {},
     "output_type": "execute_result"
    }
   ],
   "source": [
    "print(f\"Old size {test.shape}\")\n",
    "test['pickup_datetime']  = pd.to_datetime(test['pickup_datetime'])\n",
    "print(f\"New size {test.shape}\")\n",
    "test.dtypes"
   ]
  },
  {
   "cell_type": "code",
   "execution_count": 25,
   "metadata": {},
   "outputs": [
    {
     "data": {
      "text/html": [
       "<div>\n",
       "<style scoped>\n",
       "    .dataframe tbody tr th:only-of-type {\n",
       "        vertical-align: middle;\n",
       "    }\n",
       "\n",
       "    .dataframe tbody tr th {\n",
       "        vertical-align: top;\n",
       "    }\n",
       "\n",
       "    .dataframe thead th {\n",
       "        text-align: right;\n",
       "    }\n",
       "</style>\n",
       "<table border=\"1\" class=\"dataframe\">\n",
       "  <thead>\n",
       "    <tr style=\"text-align: right;\">\n",
       "      <th></th>\n",
       "      <th>key</th>\n",
       "      <th>pickup_datetime</th>\n",
       "      <th>pickup_longitude</th>\n",
       "      <th>pickup_latitude</th>\n",
       "      <th>dropoff_longitude</th>\n",
       "      <th>dropoff_latitude</th>\n",
       "      <th>passenger_count</th>\n",
       "      <th>abs_diff_longitude</th>\n",
       "      <th>abs_diff_latitude</th>\n",
       "    </tr>\n",
       "  </thead>\n",
       "  <tbody>\n",
       "    <tr>\n",
       "      <th>0</th>\n",
       "      <td>2015-01-27 13:08:24.0000002</td>\n",
       "      <td>2015-01-27 13:08:24+00:00</td>\n",
       "      <td>-73.973320</td>\n",
       "      <td>40.763805</td>\n",
       "      <td>-73.981430</td>\n",
       "      <td>40.743835</td>\n",
       "      <td>1</td>\n",
       "      <td>0.008110</td>\n",
       "      <td>0.019970</td>\n",
       "    </tr>\n",
       "    <tr>\n",
       "      <th>1</th>\n",
       "      <td>2015-01-27 13:08:24.0000003</td>\n",
       "      <td>2015-01-27 13:08:24+00:00</td>\n",
       "      <td>-73.986862</td>\n",
       "      <td>40.719383</td>\n",
       "      <td>-73.998886</td>\n",
       "      <td>40.739201</td>\n",
       "      <td>1</td>\n",
       "      <td>0.012024</td>\n",
       "      <td>0.019817</td>\n",
       "    </tr>\n",
       "    <tr>\n",
       "      <th>2</th>\n",
       "      <td>2011-10-08 11:53:44.0000002</td>\n",
       "      <td>2011-10-08 11:53:44+00:00</td>\n",
       "      <td>-73.982524</td>\n",
       "      <td>40.751260</td>\n",
       "      <td>-73.979654</td>\n",
       "      <td>40.746139</td>\n",
       "      <td>1</td>\n",
       "      <td>0.002870</td>\n",
       "      <td>0.005121</td>\n",
       "    </tr>\n",
       "    <tr>\n",
       "      <th>3</th>\n",
       "      <td>2012-12-01 21:12:12.0000002</td>\n",
       "      <td>2012-12-01 21:12:12+00:00</td>\n",
       "      <td>-73.981160</td>\n",
       "      <td>40.767807</td>\n",
       "      <td>-73.990448</td>\n",
       "      <td>40.751635</td>\n",
       "      <td>1</td>\n",
       "      <td>0.009288</td>\n",
       "      <td>0.016172</td>\n",
       "    </tr>\n",
       "    <tr>\n",
       "      <th>4</th>\n",
       "      <td>2012-12-01 21:12:12.0000003</td>\n",
       "      <td>2012-12-01 21:12:12+00:00</td>\n",
       "      <td>-73.966046</td>\n",
       "      <td>40.789775</td>\n",
       "      <td>-73.988565</td>\n",
       "      <td>40.744427</td>\n",
       "      <td>1</td>\n",
       "      <td>0.022519</td>\n",
       "      <td>0.045348</td>\n",
       "    </tr>\n",
       "  </tbody>\n",
       "</table>\n",
       "</div>"
      ],
      "text/plain": [
       "                           key           pickup_datetime  pickup_longitude  \\\n",
       "0  2015-01-27 13:08:24.0000002 2015-01-27 13:08:24+00:00        -73.973320   \n",
       "1  2015-01-27 13:08:24.0000003 2015-01-27 13:08:24+00:00        -73.986862   \n",
       "2  2011-10-08 11:53:44.0000002 2011-10-08 11:53:44+00:00        -73.982524   \n",
       "3  2012-12-01 21:12:12.0000002 2012-12-01 21:12:12+00:00        -73.981160   \n",
       "4  2012-12-01 21:12:12.0000003 2012-12-01 21:12:12+00:00        -73.966046   \n",
       "\n",
       "   pickup_latitude  dropoff_longitude  dropoff_latitude  passenger_count  \\\n",
       "0        40.763805         -73.981430         40.743835                1   \n",
       "1        40.719383         -73.998886         40.739201                1   \n",
       "2        40.751260         -73.979654         40.746139                1   \n",
       "3        40.767807         -73.990448         40.751635                1   \n",
       "4        40.789775         -73.988565         40.744427                1   \n",
       "\n",
       "   abs_diff_longitude  abs_diff_latitude  \n",
       "0            0.008110           0.019970  \n",
       "1            0.012024           0.019817  \n",
       "2            0.002870           0.005121  \n",
       "3            0.009288           0.016172  \n",
       "4            0.022519           0.045348  "
      ]
     },
     "execution_count": 25,
     "metadata": {},
     "output_type": "execute_result"
    }
   ],
   "source": [
    "test.head()"
   ]
  },
  {
   "cell_type": "code",
   "execution_count": 26,
   "metadata": {
    "colab": {
     "base_uri": "https://localhost:8080/"
    },
    "id": "ozfgohfHg4bn",
    "outputId": "77923c09-b386-4c09-8b3e-831813cdb3de"
   },
   "outputs": [
    {
     "name": "stdout",
     "output_type": "stream",
     "text": [
      "Old size (9914, 9)\n",
      "New size (9914, 14)\n"
     ]
    }
   ],
   "source": [
    "print(f\"Old size {test.shape}\")\n",
    "data = [train, test]\n",
    "\n",
    "for x in data:\n",
    "    x[\"year\"] = x[\"pickup_datetime\"].dt.year\n",
    "    x[\"month\"] = x[\"pickup_datetime\"].dt.month\n",
    "    x[\"day_of_month\"] = x[\"pickup_datetime\"].dt.day\n",
    "    x[\"day_of_week\"] = x[\"pickup_datetime\"].dt.dayofweek\n",
    "    x[\"hour\"] = x[\"pickup_datetime\"].dt.hour\n",
    "\n",
    "print(f\"New size {test.shape}\")\n"
   ]
  },
  {
   "cell_type": "code",
   "execution_count": 27,
   "metadata": {
    "colab": {
     "base_uri": "https://localhost:8080/",
     "height": 388
    },
    "id": "967q3stynUCD",
    "outputId": "07eae334-44db-4060-b540-0330289517c3"
   },
   "outputs": [
    {
     "data": {
      "image/png": "[encoded data removed]",
      "text/plain": [
       "<Figure size 576x432 with 1 Axes>"
      ]
     },
     "metadata": {
      "needs_background": "light"
     },
     "output_type": "display_data"
    }
   ],
   "source": [
    "plt.figure(figsize=(8, 6))\n",
    "sns.lineplot(x='year', y='fare_amount', data=train);"
   ]
  },
  {
   "cell_type": "code",
   "execution_count": 61,
   "metadata": {
    "colab": {
     "base_uri": "https://localhost:8080/",
     "height": 442
    },
    "id": "SrvfApq6nT27",
    "outputId": "23e80755-6fa9-440c-cebe-c0ecb07e288f"
   },
   "outputs": [
    {
     "data": {
      "image/png": "[encoded data removed]",
      "text/plain": [
       "<Figure size 720x504 with 1 Axes>"
      ]
     },
     "metadata": {
      "needs_background": "light"
     },
     "output_type": "display_data"
    }
   ],
   "source": [
    "plt.figure(figsize=(10,7))\n",
    "sns.countplot(x=train['passenger_count']);\n",
    "plt.xlabel('Passanger count')\n",
    "plt.ylabel('Count')\n",
    "plt.show()"
   ]
  },
  {
   "cell_type": "code",
   "execution_count": 62,
   "metadata": {
    "colab": {
     "base_uri": "https://localhost:8080/",
     "height": 442
    },
    "id": "92T1ApHAnTsC",
    "outputId": "a59eef11-52c6-4f21-b1b5-3be8b2d729d8"
   },
   "outputs": [
    {
     "data": {
      "image/png": "[encoded data removed]",
      "text/plain": [
       "<Figure size 504x504 with 1 Axes>"
      ]
     },
     "metadata": {
      "needs_background": "light"
     },
     "output_type": "display_data"
    }
   ],
   "source": [
    "plt.figure(figsize=(7,7))\n",
    "sns.countplot(y=train['month']);\n",
    "plt.xlabel('Count of rides')\n",
    "plt.ylabel('Month')\n",
    "plt.show()"
   ]
  },
  {
   "cell_type": "code",
   "execution_count": 28,
   "metadata": {
    "id": "j-TY2thHnTfW"
   },
   "outputs": [],
   "source": [
    "def get_distance(lat1, long1, lat2, long2):\n",
    "    data = [train, test]\n",
    "    for i in data:\n",
    "        R = 6371\n",
    "\n",
    "        phi1 = np.radians(i[lat1])\n",
    "        phi2 = np.radians(i[lat2])\n",
    "\n",
    "        delta_phi = np.radians(i[lat2] - i[lat1])\n",
    "        delta_lambda = np.radians(i[long2] - i[long2])\n",
    "\n",
    "        a = np.sin(delta_phi / 2.0) ** 2 + np.cos(phi1) * np.cos(phi2) * np.sin(delta_lambda / 2.0) ** 2\n",
    "\n",
    "        c = 2 * np.arctan2(np.sqrt(a), np.sqrt(1-a))\n",
    "        d = (R * c)\n",
    "        i['distance_km'] = d\n",
    "\n",
    "    return d "
   ]
  },
  {
   "cell_type": "code",
   "execution_count": 29,
   "metadata": {
    "colab": {
     "base_uri": "https://localhost:8080/"
    },
    "id": "HxRYXn6Rv97V",
    "outputId": "4474a704-553c-4209-9c69-d6cada60162b"
   },
   "outputs": [
    {
     "data": {
      "text/plain": [
       "Index(['key', 'fare_amount', 'pickup_datetime', 'pickup_longitude',\n",
       "       'pickup_latitude', 'dropoff_longitude', 'dropoff_latitude',\n",
       "       'passenger_count', 'abs_diff_longitude', 'abs_diff_latitude', 'year',\n",
       "       'month', 'day_of_month', 'day_of_week', 'hour'],\n",
       "      dtype='object')"
      ]
     },
     "execution_count": 29,
     "metadata": {},
     "output_type": "execute_result"
    }
   ],
   "source": [
    "train.columns"
   ]
  },
  {
   "cell_type": "code",
   "execution_count": 30,
   "metadata": {
    "colab": {
     "base_uri": "https://localhost:8080/"
    },
    "id": "TmXZu3innTTM",
    "outputId": "5f02dfb1-e6ff-4ee0-9be1-a603521f5eb8"
   },
   "outputs": [
    {
     "name": "stdout",
     "output_type": "stream",
     "text": [
      "Old size (9914, 14)\n",
      "New size (9914, 15)\n"
     ]
    }
   ],
   "source": [
    "print(f\"Old size {test.shape}\")\n",
    "get_distance('pickup_latitude', 'pickup_longitude', 'dropoff_latitude', 'dropoff_longitude')\n",
    "print(f\"New size {test.shape}\")\n"
   ]
  },
  {
   "cell_type": "code",
   "execution_count": 31,
   "metadata": {
    "colab": {
     "base_uri": "https://localhost:8080/",
     "height": 590
    },
    "id": "LTIrc3bY3SLT",
    "outputId": "7d622aeb-adee-4985-afef-04d891386e98"
   },
   "outputs": [
    {
     "data": {
      "text/html": [
       "<div>\n",
       "<style scoped>\n",
       "    .dataframe tbody tr th:only-of-type {\n",
       "        vertical-align: middle;\n",
       "    }\n",
       "\n",
       "    .dataframe tbody tr th {\n",
       "        vertical-align: top;\n",
       "    }\n",
       "\n",
       "    .dataframe thead th {\n",
       "        text-align: right;\n",
       "    }\n",
       "</style>\n",
       "<table border=\"1\" class=\"dataframe\">\n",
       "  <thead>\n",
       "    <tr style=\"text-align: right;\">\n",
       "      <th></th>\n",
       "      <th>key</th>\n",
       "      <th>fare_amount</th>\n",
       "      <th>pickup_datetime</th>\n",
       "      <th>pickup_longitude</th>\n",
       "      <th>pickup_latitude</th>\n",
       "      <th>dropoff_longitude</th>\n",
       "      <th>dropoff_latitude</th>\n",
       "      <th>passenger_count</th>\n",
       "      <th>abs_diff_longitude</th>\n",
       "      <th>abs_diff_latitude</th>\n",
       "      <th>year</th>\n",
       "      <th>month</th>\n",
       "      <th>day_of_month</th>\n",
       "      <th>day_of_week</th>\n",
       "      <th>hour</th>\n",
       "      <th>distance_km</th>\n",
       "    </tr>\n",
       "  </thead>\n",
       "  <tbody>\n",
       "    <tr>\n",
       "      <th>11</th>\n",
       "      <td>2012-12-24 11:24:00.00000098</td>\n",
       "      <td>5.5</td>\n",
       "      <td>2012-12-24 11:24:00+00:00</td>\n",
       "      <td>0.0</td>\n",
       "      <td>0.0</td>\n",
       "      <td>0.0</td>\n",
       "      <td>0.0</td>\n",
       "      <td>3</td>\n",
       "      <td>0.0</td>\n",
       "      <td>0.0</td>\n",
       "      <td>2012</td>\n",
       "      <td>12</td>\n",
       "      <td>24</td>\n",
       "      <td>0</td>\n",
       "      <td>11</td>\n",
       "      <td>0.0</td>\n",
       "    </tr>\n",
       "    <tr>\n",
       "      <th>15</th>\n",
       "      <td>2013-11-23 12:57:00.000000190</td>\n",
       "      <td>5.0</td>\n",
       "      <td>2013-11-23 12:57:00+00:00</td>\n",
       "      <td>0.0</td>\n",
       "      <td>0.0</td>\n",
       "      <td>0.0</td>\n",
       "      <td>0.0</td>\n",
       "      <td>1</td>\n",
       "      <td>0.0</td>\n",
       "      <td>0.0</td>\n",
       "      <td>2013</td>\n",
       "      <td>11</td>\n",
       "      <td>23</td>\n",
       "      <td>5</td>\n",
       "      <td>12</td>\n",
       "      <td>0.0</td>\n",
       "    </tr>\n",
       "    <tr>\n",
       "      <th>26</th>\n",
       "      <td>2011-02-07 20:01:00.000000114</td>\n",
       "      <td>6.5</td>\n",
       "      <td>2011-02-07 20:01:00+00:00</td>\n",
       "      <td>0.0</td>\n",
       "      <td>0.0</td>\n",
       "      <td>0.0</td>\n",
       "      <td>0.0</td>\n",
       "      <td>1</td>\n",
       "      <td>0.0</td>\n",
       "      <td>0.0</td>\n",
       "      <td>2011</td>\n",
       "      <td>2</td>\n",
       "      <td>7</td>\n",
       "      <td>0</td>\n",
       "      <td>20</td>\n",
       "      <td>0.0</td>\n",
       "    </tr>\n",
       "    <tr>\n",
       "      <th>124</th>\n",
       "      <td>2013-01-17 17:22:00.00000043</td>\n",
       "      <td>8.0</td>\n",
       "      <td>2013-01-17 17:22:00+00:00</td>\n",
       "      <td>0.0</td>\n",
       "      <td>0.0</td>\n",
       "      <td>0.0</td>\n",
       "      <td>0.0</td>\n",
       "      <td>2</td>\n",
       "      <td>0.0</td>\n",
       "      <td>0.0</td>\n",
       "      <td>2013</td>\n",
       "      <td>1</td>\n",
       "      <td>17</td>\n",
       "      <td>3</td>\n",
       "      <td>17</td>\n",
       "      <td>0.0</td>\n",
       "    </tr>\n",
       "    <tr>\n",
       "      <th>192</th>\n",
       "      <td>2010-09-05 17:08:00.00000092</td>\n",
       "      <td>3.7</td>\n",
       "      <td>2010-09-05 17:08:00+00:00</td>\n",
       "      <td>0.0</td>\n",
       "      <td>0.0</td>\n",
       "      <td>0.0</td>\n",
       "      <td>0.0</td>\n",
       "      <td>5</td>\n",
       "      <td>0.0</td>\n",
       "      <td>0.0</td>\n",
       "      <td>2010</td>\n",
       "      <td>9</td>\n",
       "      <td>5</td>\n",
       "      <td>6</td>\n",
       "      <td>17</td>\n",
       "      <td>0.0</td>\n",
       "    </tr>\n",
       "    <tr>\n",
       "      <th>...</th>\n",
       "      <td>...</td>\n",
       "      <td>...</td>\n",
       "      <td>...</td>\n",
       "      <td>...</td>\n",
       "      <td>...</td>\n",
       "      <td>...</td>\n",
       "      <td>...</td>\n",
       "      <td>...</td>\n",
       "      <td>...</td>\n",
       "      <td>...</td>\n",
       "      <td>...</td>\n",
       "      <td>...</td>\n",
       "      <td>...</td>\n",
       "      <td>...</td>\n",
       "      <td>...</td>\n",
       "      <td>...</td>\n",
       "    </tr>\n",
       "    <tr>\n",
       "      <th>1999688</th>\n",
       "      <td>2011-08-04 07:17:00.00000075</td>\n",
       "      <td>2.5</td>\n",
       "      <td>2011-08-04 07:17:00+00:00</td>\n",
       "      <td>0.0</td>\n",
       "      <td>0.0</td>\n",
       "      <td>0.0</td>\n",
       "      <td>0.0</td>\n",
       "      <td>1</td>\n",
       "      <td>0.0</td>\n",
       "      <td>0.0</td>\n",
       "      <td>2011</td>\n",
       "      <td>8</td>\n",
       "      <td>4</td>\n",
       "      <td>3</td>\n",
       "      <td>7</td>\n",
       "      <td>0.0</td>\n",
       "    </tr>\n",
       "    <tr>\n",
       "      <th>1999705</th>\n",
       "      <td>2012-08-03 11:54:00.00000042</td>\n",
       "      <td>35.7</td>\n",
       "      <td>2012-08-03 11:54:00+00:00</td>\n",
       "      <td>0.0</td>\n",
       "      <td>0.0</td>\n",
       "      <td>0.0</td>\n",
       "      <td>0.0</td>\n",
       "      <td>1</td>\n",
       "      <td>0.0</td>\n",
       "      <td>0.0</td>\n",
       "      <td>2012</td>\n",
       "      <td>8</td>\n",
       "      <td>3</td>\n",
       "      <td>4</td>\n",
       "      <td>11</td>\n",
       "      <td>0.0</td>\n",
       "    </tr>\n",
       "    <tr>\n",
       "      <th>1999748</th>\n",
       "      <td>2012-07-30 23:55:00.00000073</td>\n",
       "      <td>5.7</td>\n",
       "      <td>2012-07-30 23:55:00+00:00</td>\n",
       "      <td>0.0</td>\n",
       "      <td>0.0</td>\n",
       "      <td>0.0</td>\n",
       "      <td>0.0</td>\n",
       "      <td>5</td>\n",
       "      <td>0.0</td>\n",
       "      <td>0.0</td>\n",
       "      <td>2012</td>\n",
       "      <td>7</td>\n",
       "      <td>30</td>\n",
       "      <td>0</td>\n",
       "      <td>23</td>\n",
       "      <td>0.0</td>\n",
       "    </tr>\n",
       "    <tr>\n",
       "      <th>1999852</th>\n",
       "      <td>2012-09-05 11:58:00.000000171</td>\n",
       "      <td>7.0</td>\n",
       "      <td>2012-09-05 11:58:00+00:00</td>\n",
       "      <td>0.0</td>\n",
       "      <td>0.0</td>\n",
       "      <td>0.0</td>\n",
       "      <td>0.0</td>\n",
       "      <td>2</td>\n",
       "      <td>0.0</td>\n",
       "      <td>0.0</td>\n",
       "      <td>2012</td>\n",
       "      <td>9</td>\n",
       "      <td>5</td>\n",
       "      <td>2</td>\n",
       "      <td>11</td>\n",
       "      <td>0.0</td>\n",
       "    </tr>\n",
       "    <tr>\n",
       "      <th>1999868</th>\n",
       "      <td>2010-11-13 21:40:22.0000001</td>\n",
       "      <td>10.1</td>\n",
       "      <td>2010-11-13 21:40:22+00:00</td>\n",
       "      <td>0.0</td>\n",
       "      <td>0.0</td>\n",
       "      <td>0.0</td>\n",
       "      <td>0.0</td>\n",
       "      <td>3</td>\n",
       "      <td>0.0</td>\n",
       "      <td>0.0</td>\n",
       "      <td>2010</td>\n",
       "      <td>11</td>\n",
       "      <td>13</td>\n",
       "      <td>5</td>\n",
       "      <td>21</td>\n",
       "      <td>0.0</td>\n",
       "    </tr>\n",
       "  </tbody>\n",
       "</table>\n",
       "<p>35771 rows × 16 columns</p>\n",
       "</div>"
      ],
      "text/plain": [
       "                                   key  fare_amount           pickup_datetime  \\\n",
       "11        2012-12-24 11:24:00.00000098          5.5 2012-12-24 11:24:00+00:00   \n",
       "15       2013-11-23 12:57:00.000000190          5.0 2013-11-23 12:57:00+00:00   \n",
       "26       2011-02-07 20:01:00.000000114          6.5 2011-02-07 20:01:00+00:00   \n",
       "124       2013-01-17 17:22:00.00000043          8.0 2013-01-17 17:22:00+00:00   \n",
       "192       2010-09-05 17:08:00.00000092          3.7 2010-09-05 17:08:00+00:00   \n",
       "...                                ...          ...                       ...   \n",
       "1999688   2011-08-04 07:17:00.00000075          2.5 2011-08-04 07:17:00+00:00   \n",
       "1999705   2012-08-03 11:54:00.00000042         35.7 2012-08-03 11:54:00+00:00   \n",
       "1999748   2012-07-30 23:55:00.00000073          5.7 2012-07-30 23:55:00+00:00   \n",
       "1999852  2012-09-05 11:58:00.000000171          7.0 2012-09-05 11:58:00+00:00   \n",
       "1999868    2010-11-13 21:40:22.0000001         10.1 2010-11-13 21:40:22+00:00   \n",
       "\n",
       "         pickup_longitude  pickup_latitude  dropoff_longitude  \\\n",
       "11                    0.0              0.0                0.0   \n",
       "15                    0.0              0.0                0.0   \n",
       "26                    0.0              0.0                0.0   \n",
       "124                   0.0              0.0                0.0   \n",
       "192                   0.0              0.0                0.0   \n",
       "...                   ...              ...                ...   \n",
       "1999688               0.0              0.0                0.0   \n",
       "1999705               0.0              0.0                0.0   \n",
       "1999748               0.0              0.0                0.0   \n",
       "1999852               0.0              0.0                0.0   \n",
       "1999868               0.0              0.0                0.0   \n",
       "\n",
       "         dropoff_latitude  passenger_count  abs_diff_longitude  \\\n",
       "11                    0.0                3                 0.0   \n",
       "15                    0.0                1                 0.0   \n",
       "26                    0.0                1                 0.0   \n",
       "124                   0.0                2                 0.0   \n",
       "192                   0.0                5                 0.0   \n",
       "...                   ...              ...                 ...   \n",
       "1999688               0.0                1                 0.0   \n",
       "1999705               0.0                1                 0.0   \n",
       "1999748               0.0                5                 0.0   \n",
       "1999852               0.0                2                 0.0   \n",
       "1999868               0.0                3                 0.0   \n",
       "\n",
       "         abs_diff_latitude  year  month  day_of_month  day_of_week  hour  \\\n",
       "11                     0.0  2012     12            24            0    11   \n",
       "15                     0.0  2013     11            23            5    12   \n",
       "26                     0.0  2011      2             7            0    20   \n",
       "124                    0.0  2013      1            17            3    17   \n",
       "192                    0.0  2010      9             5            6    17   \n",
       "...                    ...   ...    ...           ...          ...   ...   \n",
       "1999688                0.0  2011      8             4            3     7   \n",
       "1999705                0.0  2012      8             3            4    11   \n",
       "1999748                0.0  2012      7            30            0    23   \n",
       "1999852                0.0  2012      9             5            2    11   \n",
       "1999868                0.0  2010     11            13            5    21   \n",
       "\n",
       "         distance_km  \n",
       "11               0.0  \n",
       "15               0.0  \n",
       "26               0.0  \n",
       "124              0.0  \n",
       "192              0.0  \n",
       "...              ...  \n",
       "1999688          0.0  \n",
       "1999705          0.0  \n",
       "1999748          0.0  \n",
       "1999852          0.0  \n",
       "1999868          0.0  \n",
       "\n",
       "[35771 rows x 16 columns]"
      ]
     },
     "execution_count": 31,
     "metadata": {},
     "output_type": "execute_result"
    }
   ],
   "source": [
    "train[(train['pickup_latitude'] == 0) & (train['pickup_longitude'] == 0)]"
   ]
  },
  {
   "cell_type": "code",
   "execution_count": 32,
   "metadata": {
    "colab": {
     "base_uri": "https://localhost:8080/"
    },
    "id": "F8Y4I5Gg3zSh",
    "outputId": "ec47f7e1-dd43-456e-a06c-568da195740a"
   },
   "outputs": [
    {
     "name": "stdout",
     "output_type": "stream",
     "text": [
      "Old size (1988786, 16)\n",
      "New size (1953015, 16)\n"
     ]
    }
   ],
   "source": [
    "print(f\"Old size {train.shape}\")\n",
    "train.drop(train[(train['pickup_latitude'] == 0) & (train['pickup_longitude'] == 0)].index, axis=0, inplace=True)\n",
    "print(f\"New size {train.shape}\")"
   ]
  },
  {
   "cell_type": "markdown",
   "metadata": {},
   "source": [
    "# Fitting"
   ]
  },
  {
   "cell_type": "code",
   "execution_count": 33,
   "metadata": {
    "id": "wSMIkZto4OL-"
   },
   "outputs": [],
   "source": [
    "from sklearn.model_selection import train_test_split\n",
    "from sklearn.ensemble import RandomForestRegressor\n",
    "import lightgbm as lgbm\n",
    "from sklearn.neighbors import KNeighborsRegressor\n",
    "from sklearn.tree import DecisionTreeRegressor\n",
    "from sklearn.metrics import mean_squared_error\n",
    "from sklearn.model_selection import GridSearchCV, RandomizedSearchCV\n"
   ]
  },
  {
   "cell_type": "code",
   "execution_count": 34,
   "metadata": {
    "id": "JVXg3cBM5GVN"
   },
   "outputs": [],
   "source": [
    "features = ['pickup_longitude', 'pickup_latitude', 'dropoff_longitude', 'dropoff_latitude', 'passenger_count', 'abs_diff_longitude', \\\n",
    "            'abs_diff_latitude', 'year', 'month', 'day_of_month', 'day_of_week', 'hour', 'distance_km']"
   ]
  },
  {
   "cell_type": "code",
   "execution_count": 35,
   "metadata": {
    "id": "xnp62Mu152XV"
   },
   "outputs": [],
   "source": [
    "X = train[features]\n",
    "y = train['fare_amount']"
   ]
  },
  {
   "cell_type": "code",
   "execution_count": 36,
   "metadata": {
    "id": "pne3KYyX38Pf"
   },
   "outputs": [],
   "source": [
    "X_train, X_test, y_train, y_test = train_test_split(X, y, test_size = 0.1, random_state=42)"
   ]
  },
  {
   "cell_type": "markdown",
   "metadata": {},
   "source": [
    "### KNN"
   ]
  },
  {
   "cell_type": "code",
   "execution_count": 165,
   "metadata": {},
   "outputs": [
    {
     "name": "stdout",
     "output_type": "stream",
     "text": [
      "Wall time: 30.2 s\n"
     ]
    },
    {
     "data": {
      "text/plain": [
       "KNeighborsRegressor(n_neighbors=400)"
      ]
     },
     "execution_count": 165,
     "metadata": {},
     "output_type": "execute_result"
    }
   ],
   "source": [
    "%%time\n",
    "\n",
    "knn = KNeighborsRegressor(n_neighbors=400)\n",
    "knn.fit(X_train, y_train)"
   ]
  },
  {
   "cell_type": "code",
   "execution_count": 166,
   "metadata": {},
   "outputs": [],
   "source": [
    "knn_pred = knn.predict(test[features])"
   ]
  },
  {
   "cell_type": "markdown",
   "metadata": {},
   "source": [
    "### Random Forest"
   ]
  },
  {
   "cell_type": "code",
   "execution_count": 73,
   "metadata": {},
   "outputs": [
    {
     "data": {
      "text/plain": [
       "{'n_estimators': [200, 400, 600, 800, 1000],\n",
       " 'max_depth': [20, 40, 60, 80, 100],\n",
       " 'min_samples_split': [2, 5, 10],\n",
       " 'min_samples_leaf': [1, 2, 4],\n",
       " 'bootstrap': [True, False],\n",
       " 'max_features': ['auto', 'sqrt']}"
      ]
     },
     "execution_count": 73,
     "metadata": {},
     "output_type": "execute_result"
    }
   ],
   "source": [
    "n_estimators = [int(x) for x in np.linspace(start=200, stop=1000, num=5)]\n",
    "max_depth = [int(x) for x in np.linspace(start=20, stop=100, num=5)]\n",
    "min_samples_split = [2, 5, 10]\n",
    "min_samples_leaf = [1, 2, 4]\n",
    "bootstrap = [True, False]\n",
    "max_features = ['auto', 'sqrt']\n",
    "\n",
    "rf_params = {'n_estimators': n_estimators,\n",
    "            'max_depth': max_depth,\n",
    "            'min_samples_split': min_samples_split,\n",
    "            'min_samples_leaf': min_samples_leaf,\n",
    "            'bootstrap': bootstrap,\n",
    "            'max_features': max_features}\n",
    "rf_params"
   ]
  },
  {
   "cell_type": "code",
   "execution_count": null,
   "metadata": {
    "colab": {
     "base_uri": "https://localhost:8080/"
    },
    "id": "_3W-T1f-38dD",
    "outputId": "afac3bee-25ca-4664-da45-228f71916246"
   },
   "outputs": [
    {
     "name": "stdout",
     "output_type": "stream",
     "text": [
      "Fitting 3 folds for each of 50 candidates, totalling 150 fits\n"
     ]
    },
    {
     "name": "stderr",
     "output_type": "stream",
     "text": [
      "[Parallel(n_jobs=-1)]: Using backend LokyBackend with 4 concurrent workers.\n"
     ]
    }
   ],
   "source": [
    "%%time\n",
    "\n",
    "rf = RandomForestRegressor()\n",
    "rf_random_cv = RandomizedSearchCV(estimator=rf, param_distributions=rf_params, \\\n",
    "                                  n_iter=50, cv=3, verbose=2, random_state=13, n_jobs=-1)\n",
    "rf_random_cv.fit(X_train, y_train)"
   ]
  },
  {
   "cell_type": "code",
   "execution_count": 213,
   "metadata": {
    "id": "5V8DivHwyNKo"
   },
   "outputs": [],
   "source": [
    "rf_pred_train = rf.predict(X_train[features])\n",
    "rf_pred_test = rf.predict(X_test[features])"
   ]
  },
  {
   "cell_type": "code",
   "execution_count": 214,
   "metadata": {},
   "outputs": [
    {
     "data": {
      "text/plain": [
       "3.8271803526697266"
      ]
     },
     "execution_count": 214,
     "metadata": {},
     "output_type": "execute_result"
    }
   ],
   "source": [
    "mean_squared_error(y_test, rf_pred_test, squared=False)"
   ]
  },
  {
   "cell_type": "code",
   "execution_count": 215,
   "metadata": {},
   "outputs": [
    {
     "data": {
      "text/plain": [
       "1.4439217437319103"
      ]
     },
     "execution_count": 215,
     "metadata": {},
     "output_type": "execute_result"
    }
   ],
   "source": [
    "mean_squared_error(y_train, rf_pred_train, squared=False)"
   ]
  },
  {
   "cell_type": "markdown",
   "metadata": {},
   "source": [
    "### Desicion Tree Regressor"
   ]
  },
  {
   "cell_type": "code",
   "execution_count": 41,
   "metadata": {},
   "outputs": [
    {
     "data": {
      "text/plain": [
       "{'max_depth': [10, 20, 30, 40, 50, 60, 70, 80, 90, 100],\n",
       " 'min_samples_split': [2, 5, 10],\n",
       " 'min_samples_leaf': [1, 2, 4]}"
      ]
     },
     "execution_count": 41,
     "metadata": {},
     "output_type": "execute_result"
    }
   ],
   "source": [
    "max_depth = [int(x) for x in np.linspace(start=10, stop=100, num=10)]\n",
    "min_samples_split = [2, 5, 10]\n",
    "min_samples_leaf = [1, 2, 4]\n",
    "\n",
    "dtr_params = {'max_depth': max_depth,\n",
    "            'min_samples_split': min_samples_split,\n",
    "            'min_samples_leaf': min_samples_leaf}\n",
    "dtr_params"
   ]
  },
  {
   "cell_type": "code",
   "execution_count": 42,
   "metadata": {},
   "outputs": [
    {
     "name": "stdout",
     "output_type": "stream",
     "text": [
      "Wall time: 35min 1s\n"
     ]
    },
    {
     "data": {
      "text/plain": [
       "RandomizedSearchCV(cv=5, estimator=DecisionTreeRegressor(), n_iter=50,\n",
       "                   n_jobs=-1,\n",
       "                   param_distributions={'max_depth': [10, 20, 30, 40, 50, 60,\n",
       "                                                      70, 80, 90, 100],\n",
       "                                        'min_samples_leaf': [1, 2, 4],\n",
       "                                        'min_samples_split': [2, 5, 10]})"
      ]
     },
     "execution_count": 42,
     "metadata": {},
     "output_type": "execute_result"
    }
   ],
   "source": [
    "%%time\n",
    "\n",
    "dtr = DecisionTreeRegressor()\n",
    "dtr_random_cv = RandomizedSearchCV(dtr, dtr_params, cv=5, n_iter=50, n_jobs=-1)\n",
    "dtr_random_cv.fit(X_train, y_train)"
   ]
  },
  {
   "cell_type": "code",
   "execution_count": 43,
   "metadata": {},
   "outputs": [
    {
     "data": {
      "text/plain": [
       "{'min_samples_split': 10, 'min_samples_leaf': 4, 'max_depth': 10}"
      ]
     },
     "execution_count": 43,
     "metadata": {},
     "output_type": "execute_result"
    }
   ],
   "source": [
    "dtr_random_cv.best_params_"
   ]
  },
  {
   "cell_type": "code",
   "execution_count": 44,
   "metadata": {},
   "outputs": [],
   "source": [
    "dtr_pred_train = dtr_random_cv.predict(X_train[features])\n",
    "dtr_pred_test = dtr_random_cv.predict(X_test[features])"
   ]
  },
  {
   "cell_type": "code",
   "execution_count": 45,
   "metadata": {},
   "outputs": [
    {
     "data": {
      "text/plain": [
       "4.0008016492579825"
      ]
     },
     "execution_count": 45,
     "metadata": {},
     "output_type": "execute_result"
    }
   ],
   "source": [
    "mean_squared_error(y_train, dtr_pred_train, squared=False)"
   ]
  },
  {
   "cell_type": "code",
   "execution_count": 46,
   "metadata": {},
   "outputs": [
    {
     "data": {
      "text/plain": [
       "4.517793879972861"
      ]
     },
     "execution_count": 46,
     "metadata": {},
     "output_type": "execute_result"
    }
   ],
   "source": [
    "mean_squared_error(y_test, dtr_pred_test, squared=False)"
   ]
  },
  {
   "cell_type": "markdown",
   "metadata": {},
   "source": [
    "### Light Gradient Boosting"
   ]
  },
  {
   "cell_type": "code",
   "execution_count": 37,
   "metadata": {},
   "outputs": [],
   "source": [
    "params = {\n",
    "        'boosting_type':'gbdt',\n",
    "        'objective': 'regression',\n",
    "        'nthread': 4,\n",
    "        'num_leaves': 31,\n",
    "        'learning_rate': 0.05,\n",
    "        'max_depth': -1,\n",
    "        'subsample': 0.8,\n",
    "        'bagging_fraction' : 1,\n",
    "        'max_bin' : 5000 ,\n",
    "        'bagging_freq': 20,\n",
    "        'colsample_bytree': 0.6,\n",
    "        'metric': 'rmse',\n",
    "        'min_split_gain': 0.5,\n",
    "        'min_child_weight': 1,\n",
    "        'min_child_samples': 10,\n",
    "        'scale_pos_weight':1,\n",
    "        'seed':0,\n",
    "        'force_col_wise': True\n",
    "    }"
   ]
  },
  {
   "cell_type": "code",
   "execution_count": 38,
   "metadata": {},
   "outputs": [
    {
     "name": "stdout",
     "output_type": "stream",
     "text": [
      "[LightGBM] [Warning] bagging_fraction is set=1, subsample=0.8 will be ignored. Current value: bagging_fraction=1\n",
      "[LightGBM] [Warning] bagging_fraction is set=1, subsample=0.8 will be ignored. Current value: bagging_fraction=1\n",
      "[LightGBM] [Info] Total Bins 35091\n",
      "[LightGBM] [Info] Number of data points in the train set: 1757713, number of used features: 13\n",
      "[LightGBM] [Warning] bagging_fraction is set=1, subsample=0.8 will be ignored. Current value: bagging_fraction=1\n",
      "[LightGBM] [Info] Start training from score 11.343327\n",
      "Training until validation scores don't improve for 500 rounds\n",
      "[500]\tvalid_0's rmse: 3.6714\n",
      "[1000]\tvalid_0's rmse: 3.62114\n",
      "[1500]\tvalid_0's rmse: 3.59706\n",
      "[2000]\tvalid_0's rmse: 3.58515\n",
      "[2500]\tvalid_0's rmse: 3.57682\n",
      "[3000]\tvalid_0's rmse: 3.57202\n",
      "[3500]\tvalid_0's rmse: 3.57069\n",
      "[4000]\tvalid_0's rmse: 3.56984\n",
      "[4500]\tvalid_0's rmse: 3.56803\n",
      "[5000]\tvalid_0's rmse: 3.56639\n",
      "[5500]\tvalid_0's rmse: 3.56626\n",
      "Early stopping, best iteration is:\n",
      "[5267]\tvalid_0's rmse: 3.56511\n",
      "Wall time: 5min 38s\n"
     ]
    }
   ],
   "source": [
    "%%time\n",
    "\n",
    "train_set = lgbm.Dataset(X_train, y_train, silent=False)\n",
    "test_set = lgbm.Dataset(X_test, y_test, silent=False)\n",
    "model = lgbm.train(params, train_set, num_boost_round=10000, early_stopping_rounds=500, verbose_eval=500, valid_sets=test_set)"
   ]
  },
  {
   "cell_type": "code",
   "execution_count": 40,
   "metadata": {},
   "outputs": [],
   "source": [
    "pred_lgbm_test = model.predict(X_test[features], num_iteration=model.best_iteration)\n",
    "pred_lgbm_train = model.predict(X_train[features], num_iteration=model.best_iteration)"
   ]
  },
  {
   "cell_type": "code",
   "execution_count": 41,
   "metadata": {},
   "outputs": [
    {
     "data": {
      "text/plain": [
       "3.565108790683872"
      ]
     },
     "execution_count": 41,
     "metadata": {},
     "output_type": "execute_result"
    }
   ],
   "source": [
    "mean_squared_error(y_test, pred_lgbm_test, squared=False)"
   ]
  },
  {
   "cell_type": "code",
   "execution_count": 42,
   "metadata": {},
   "outputs": [
    {
     "data": {
      "text/plain": [
       "2.8701247569569683"
      ]
     },
     "execution_count": 42,
     "metadata": {},
     "output_type": "execute_result"
    }
   ],
   "source": [
    "mean_squared_error(y_train, pred_lgbm_train, squared=False)"
   ]
  },
  {
   "cell_type": "code",
   "execution_count": 45,
   "metadata": {},
   "outputs": [],
   "source": [
    "pred_lgbm_submit = model.predict(test[features], num_iteration=model.best_iteration)"
   ]
  },
  {
   "cell_type": "markdown",
   "metadata": {},
   "source": [
    "### Submit"
   ]
  },
  {
   "cell_type": "code",
   "execution_count": 46,
   "metadata": {},
   "outputs": [],
   "source": [
    "submit = pd.DataFrame({\n",
    "    \"key\": test.key,\n",
    "    \"fare_amount\": pred_lgbm_submit.round(2)}, columns=['key', 'fare_amount'])\n",
    "submit.to_csv('../data/sample_submission.csv', index = False)"
   ]
  },
  {
   "cell_type": "code",
   "execution_count": 47,
   "metadata": {},
   "outputs": [
    {
     "data": {
      "text/html": [
       "<div>\n",
       "<style scoped>\n",
       "    .dataframe tbody tr th:only-of-type {\n",
       "        vertical-align: middle;\n",
       "    }\n",
       "\n",
       "    .dataframe tbody tr th {\n",
       "        vertical-align: top;\n",
       "    }\n",
       "\n",
       "    .dataframe thead th {\n",
       "        text-align: right;\n",
       "    }\n",
       "</style>\n",
       "<table border=\"1\" class=\"dataframe\">\n",
       "  <thead>\n",
       "    <tr style=\"text-align: right;\">\n",
       "      <th></th>\n",
       "      <th>key</th>\n",
       "      <th>fare_amount</th>\n",
       "    </tr>\n",
       "  </thead>\n",
       "  <tbody>\n",
       "    <tr>\n",
       "      <th>0</th>\n",
       "      <td>2015-01-27 13:08:24.0000002</td>\n",
       "      <td>10.36</td>\n",
       "    </tr>\n",
       "    <tr>\n",
       "      <th>1</th>\n",
       "      <td>2015-01-27 13:08:24.0000003</td>\n",
       "      <td>10.84</td>\n",
       "    </tr>\n",
       "    <tr>\n",
       "      <th>2</th>\n",
       "      <td>2011-10-08 11:53:44.0000002</td>\n",
       "      <td>4.28</td>\n",
       "    </tr>\n",
       "    <tr>\n",
       "      <th>3</th>\n",
       "      <td>2012-12-01 21:12:12.0000002</td>\n",
       "      <td>8.92</td>\n",
       "    </tr>\n",
       "    <tr>\n",
       "      <th>4</th>\n",
       "      <td>2012-12-01 21:12:12.0000003</td>\n",
       "      <td>15.37</td>\n",
       "    </tr>\n",
       "    <tr>\n",
       "      <th>5</th>\n",
       "      <td>2012-12-01 21:12:12.0000005</td>\n",
       "      <td>10.16</td>\n",
       "    </tr>\n",
       "    <tr>\n",
       "      <th>6</th>\n",
       "      <td>2011-10-06 12:10:20.0000001</td>\n",
       "      <td>5.49</td>\n",
       "    </tr>\n",
       "    <tr>\n",
       "      <th>7</th>\n",
       "      <td>2011-10-06 12:10:20.0000003</td>\n",
       "      <td>49.79</td>\n",
       "    </tr>\n",
       "    <tr>\n",
       "      <th>8</th>\n",
       "      <td>2011-10-06 12:10:20.0000002</td>\n",
       "      <td>11.02</td>\n",
       "    </tr>\n",
       "    <tr>\n",
       "      <th>9</th>\n",
       "      <td>2014-02-18 15:22:20.0000002</td>\n",
       "      <td>7.08</td>\n",
       "    </tr>\n",
       "  </tbody>\n",
       "</table>\n",
       "</div>"
      ],
      "text/plain": [
       "                           key  fare_amount\n",
       "0  2015-01-27 13:08:24.0000002        10.36\n",
       "1  2015-01-27 13:08:24.0000003        10.84\n",
       "2  2011-10-08 11:53:44.0000002         4.28\n",
       "3  2012-12-01 21:12:12.0000002         8.92\n",
       "4  2012-12-01 21:12:12.0000003        15.37\n",
       "5  2012-12-01 21:12:12.0000005        10.16\n",
       "6  2011-10-06 12:10:20.0000001         5.49\n",
       "7  2011-10-06 12:10:20.0000003        49.79\n",
       "8  2011-10-06 12:10:20.0000002        11.02\n",
       "9  2014-02-18 15:22:20.0000002         7.08"
      ]
     },
     "execution_count": 47,
     "metadata": {},
     "output_type": "execute_result"
    }
   ],
   "source": [
    "submit.head(10)"
   ]
  },
  {
   "cell_type": "markdown",
   "metadata": {},
   "source": [
    "### Save the model"
   ]
  },
  {
   "cell_type": "code",
   "execution_count": 48,
   "metadata": {
    "colab": {
     "base_uri": "https://localhost:8080/",
     "height": 229
    },
    "id": "kUwZR1TX39Kc",
    "outputId": "2f23b3b0-7753-4632-b669-7dbd36b94b01"
   },
   "outputs": [
    {
     "name": "stdout",
     "output_type": "stream",
     "text": [
      "File is not empty\n"
     ]
    }
   ],
   "source": [
    "import pickle\n",
    "\n",
    "pickle_out = open('../models/lgbm_regressor.pickle', 'wb')\n",
    "pickle.dump(model, pickle_out)\n",
    "\n",
    "if os.path.getsize('../models/lgbm_regressor.pickle') > 0:\n",
    "    print('File is not empty')"
   ]
  },
  {
   "cell_type": "code",
   "execution_count": null,
   "metadata": {},
   "outputs": [],
   "source": []
  }
 ],
 "metadata": {
  "colab": {
   "collapsed_sections": [],
   "name": "NYC.ipynb",
   "provenance": []
  },
  "kernelspec": {
   "display_name": "Python 3",
   "language": "python",
   "name": "python3"
  },
  "language_info": {
   "codemirror_mode": {
    "name": "ipython",
    "version": 3
   },
   "file_extension": ".py",
   "mimetype": "text/x-python",
   "name": "python",
   "nbconvert_exporter": "python",
   "pygments_lexer": "ipython3",
   "version": "3.8.6"
  }
 },
 "nbformat": 4,
 "nbformat_minor": 1
}
